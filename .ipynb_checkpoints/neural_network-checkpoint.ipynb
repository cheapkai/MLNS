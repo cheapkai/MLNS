{
 "cells": [
  {
   "cell_type": "code",
   "execution_count": 22,
   "metadata": {},
   "outputs": [],
   "source": [
    "from __future__ import print_function\n",
    "import torch\n",
    "import torch.nn as nn\n",
    "import torch.nn.functional as F\n",
    "import scipy\n",
    "import scipy.io\n",
    "import numpy as np\n",
    "from torch.autograd import Variable"
   ]
  },
  {
   "cell_type": "code",
   "execution_count": 23,
   "metadata": {},
   "outputs": [],
   "source": [
    "class Net(nn.Module):\n",
    "    def __init__(self):\n",
    "        super(Net, self).__init__()\n",
    "        self.fc1 = nn.Linear(520, 128)\n",
    "        self.fc2 = nn.Linear(128, 128)\n",
    "        self.fc3 = nn.Linear(128, 64)\n",
    "        self.fc4 = nn.Linear(64, 1)\n",
    "    def forward(self, x):\n",
    "        #x = Variable(torch.from_numpy(x))\n",
    "        x = F.relu(self.fc1(x))\n",
    "        x = F.relu(self.fc2(x))\n",
    "        x = F.relu(self.fc3(x))\n",
    "        x = F.relu(self.fc4(x))\n",
    "        return x #need activation function on x or loss function"
   ]
  },
  {
   "cell_type": "code",
   "execution_count": 26,
   "metadata": {},
   "outputs": [],
   "source": [
    "def getLabels(labels):\n",
    "    return torch.Tensor(features['labels'][0])"
   ]
  },
  {
   "cell_type": "code",
   "execution_count": 30,
   "metadata": {},
   "outputs": [
    {
     "name": "stdout",
     "output_type": "stream",
     "text": [
      "(7165, 23, 520)\n",
      "\n",
      "(7165, 23)\n",
      "\n",
      "(7165,)\n",
      "\n",
      "available Atomic_nums: \n",
      "[0. 1. 2. 3. 4.]\n"
     ]
    },
    {
     "ename": "NameError",
     "evalue": "name 'AtomicNum' is not defined",
     "output_type": "error",
     "traceback": [
      "\u001b[1;31m---------------------------------------------------------------------------\u001b[0m",
      "\u001b[1;31mNameError\u001b[0m                                 Traceback (most recent call last)",
      "\u001b[1;32m<ipython-input-30-c359d78a9ee8>\u001b[0m in \u001b[0;36m<module>\u001b[1;34m\u001b[0m\n\u001b[0;32m     90\u001b[0m         '''\n\u001b[0;32m     91\u001b[0m \u001b[1;33m\u001b[0m\u001b[0m\n\u001b[1;32m---> 92\u001b[1;33m \u001b[0mdoNN\u001b[0m\u001b[1;33m(\u001b[0m\u001b[1;33m)\u001b[0m\u001b[1;33m\u001b[0m\u001b[1;33m\u001b[0m\u001b[0m\n\u001b[0m",
      "\u001b[1;32m<ipython-input-30-c359d78a9ee8>\u001b[0m in \u001b[0;36mdoNN\u001b[1;34m()\u001b[0m\n\u001b[0;32m     59\u001b[0m \u001b[1;33m\u001b[0m\u001b[0m\n\u001b[0;32m     60\u001b[0m             \u001b[1;32mfor\u001b[0m \u001b[0matom\u001b[0m \u001b[1;32min\u001b[0m \u001b[0mrange\u001b[0m\u001b[1;33m(\u001b[0m\u001b[1;36m23\u001b[0m\u001b[1;33m)\u001b[0m\u001b[1;33m:\u001b[0m\u001b[1;33m\u001b[0m\u001b[1;33m\u001b[0m\u001b[0m\n\u001b[1;32m---> 61\u001b[1;33m                 \u001b[1;32mif\u001b[0m\u001b[1;33m(\u001b[0m\u001b[0mAtomicNum\u001b[0m\u001b[1;33m[\u001b[0m\u001b[0mmolecule\u001b[0m\u001b[1;33m]\u001b[0m\u001b[1;33m[\u001b[0m\u001b[0matom\u001b[0m\u001b[1;33m]\u001b[0m\u001b[1;33m==\u001b[0m\u001b[1;36m0\u001b[0m\u001b[1;33m)\u001b[0m\u001b[1;33m:\u001b[0m\u001b[1;33m\u001b[0m\u001b[1;33m\u001b[0m\u001b[0m\n\u001b[0m\u001b[0;32m     62\u001b[0m                     \u001b[1;32mcontinue\u001b[0m\u001b[1;33m\u001b[0m\u001b[1;33m\u001b[0m\u001b[0m\n\u001b[0;32m     63\u001b[0m \u001b[1;33m\u001b[0m\u001b[0m\n",
      "\u001b[1;31mNameError\u001b[0m: name 'AtomicNum' is not defined"
     ]
    }
   ],
   "source": [
    "def doNN():\n",
    "    # Declare Nets\n",
    "    NNP_H = Net()\n",
    "    NNP_C = Net()\n",
    "    NNP_N = Net()\n",
    "    NNP_O = Net()\n",
    "    NNP_S = Net()\n",
    "    \n",
    "    nets = [NNP_H, NNP_C, NNP_N, NNP_O, NNP_S]\n",
    "\n",
    "    for net in nets:\n",
    "        net.zero_grad()\n",
    "        \n",
    "    # Get input feature dataset\n",
    "    features = scipy.io.loadmat('./feature_vector.mat')\n",
    "    \n",
    "    # Turn feature dataset into seperate arrays\n",
    "    AEVs = np.transpose(np.array(features['AEVs']), (2, 0, 1))\n",
    "    Atomic_Num = np.array(features['Atomic_Num'])\n",
    "    Target = np.array(features['labels'][0])\n",
    "    \n",
    "    S1 = np.shape(AEVs) #7165 23 520\n",
    "    S2 = np.shape(Atomic_Num) #7165 23\n",
    "    S3 = np.shape(Target) #7165\n",
    "\n",
    "    print(str(S1)+'\\n')\n",
    "    print(str(S2) + '\\n')\n",
    "    print(str(S3) + '\\n')\n",
    "    \n",
    "    print(\"available Atomic_nums: \")\n",
    "    list = []\n",
    "    for row in Atomic_Num:\n",
    "        for elem in row:\n",
    "            list.append(elem)\n",
    "            \n",
    "    list = np.array(list)\n",
    "    print(np.unique(list))\n",
    "    \n",
    "    # Seperate into training and testing samples\n",
    "    #train_atoms =    \n",
    "    #train_samples = \n",
    "    #train_labels = \n",
    "\n",
    "    #test_atoms = \n",
    "    #test_samples = \n",
    "    #test_labels = \n",
    "\n",
    "    '''\n",
    "    '''\n",
    "    \n",
    "    epochs = 10\n",
    "    molecules = 100\n",
    "    \n",
    "    # Do the thingy\n",
    "    for epoch in range(epochs) :\n",
    "        outp = []\n",
    "        for molecule in range(molecules):\n",
    "            out_f = 0;\n",
    "            \n",
    "            for atom in range(23):\n",
    "                if(Atomic_Num[molecule][atom]==0):\n",
    "                    continue\n",
    "                    \n",
    "                out = nets[Atomic]\n",
    "                \n",
    "            \n",
    "        \n",
    "        for k in range(5001) :\n",
    "\n",
    "            out_f = 0\n",
    "\n",
    "            for i in range(23) :\n",
    "                if (Atoms[k][i]==0) :\n",
    "                    continue\n",
    "\n",
    "                out = nets[int(Atoms[k][i] - 1)](np.ndarray(AEVs[i][0:520][k], dtype=torch.double)) # do autograd\n",
    "\n",
    "                out_f = out_f + out\n",
    "\n",
    "\n",
    "            #outp.append(out_f)\n",
    "\n",
    "\n",
    "            criterion = nn.MSELoss()\n",
    "            loss = criterion(out_f, labels[k])\n",
    "\n",
    "            print(str(loss))\n",
    "        \n",
    "        '''\n",
    "        '''\n",
    "    \n",
    "doNN()"
   ]
  },
  {
   "cell_type": "code",
   "execution_count": null,
   "metadata": {},
   "outputs": [],
   "source": []
  }
 ],
 "metadata": {
  "kernelspec": {
   "display_name": "Python 3",
   "language": "python",
   "name": "python3"
  },
  "language_info": {
   "codemirror_mode": {
    "name": "ipython",
    "version": 3
   },
   "file_extension": ".py",
   "mimetype": "text/x-python",
   "name": "python",
   "nbconvert_exporter": "python",
   "pygments_lexer": "ipython3",
   "version": "3.7.3"
  }
 },
 "nbformat": 4,
 "nbformat_minor": 4
}
