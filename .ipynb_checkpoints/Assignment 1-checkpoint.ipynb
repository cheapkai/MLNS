{
 "cells": [
  {
   "cell_type": "markdown",
   "metadata": {},
   "source": [
    "# Using Symmetry Function Representation of Molecules to predict Atomization Energies of the molecules "
   ]
  },
  {
   "cell_type": "markdown",
   "metadata": {},
   "source": [
    "Reference :  https://pubs.rsc.org/en/content/articlelanding/2017/sc/c6sc05720a\n",
    "Dataset: http://quantum-machine.org/datasets/ (QM 7)"
   ]
  },
  {
   "cell_type": "markdown",
   "metadata": {},
   "source": [
    "Running the code : use appropriate addresses for the file while loading dataset(qm7.mat) and feature vectors(feature_vector5.mat)\n",
    "    Comments are provided at the appropriate section of the code"
   ]
  },
  {
   "cell_type": "code",
   "execution_count": 1,
   "metadata": {},
   "outputs": [],
   "source": [
    "import scipy.io\n",
    "import numpy as np\n",
    "import sys\n",
    "import math\n",
    "from math import exp\n",
    "from math import cos\n",
    "from math import sqrt\n",
    "from math import *\n",
    "from sklearn.preprocessing import normalize"
   ]
  },
  {
   "cell_type": "code",
   "execution_count": 17,
   "metadata": {},
   "outputs": [],
   "source": [
    "from __future__ import print_function\n",
    "import torch\n",
    "import torch.nn as nn\n",
    "import torch.nn.functional as F\n",
    "import scipy\n",
    "import scipy.io\n",
    "import numpy as np\n",
    "from torch.autograd import Variable\n",
    "import torch.optim as optim\n",
    "from sklearn.preprocessing import normalize\n",
    "from sklearn.base import TransformerMixin\n",
    "from sklearn.preprocessing import StandardScaler\n",
    "import random"
   ]
  },
  {
   "cell_type": "markdown",
   "metadata": {},
   "source": [
    "Below cell contains code for encoding the atoms H,C,N,O and S from their atomic numbers\n",
    "1 - H, 2 - C, 3 - N,4 - O, 5 - S, 0 - No atom "
   ]
  },
  {
   "cell_type": "code",
   "execution_count": 2,
   "metadata": {},
   "outputs": [],
   "source": [
    "def switch_demo(argument):\n",
    "    switcher = {\n",
    "        0: 0,\n",
    "        1: 1,\n",
    "        6: 2,\n",
    "        7: 3,\n",
    "        8: 4,\n",
    "        \n",
    "    }\n",
    "    return switcher.get(argument, 5)"
   ]
  },
  {
   "cell_type": "markdown",
   "metadata": {},
   "source": [
    "# Functions for Symmetry function Calculations"
   ]
  },
  {
   "cell_type": "markdown",
   "metadata": {},
   "source": [
    "Cutoff for radial symmetry"
   ]
  },
  {
   "cell_type": "code",
   "execution_count": 3,
   "metadata": {},
   "outputs": [],
   "source": [
    "def cutoffradial(Rij) :\n",
    "    if (Rij >8.1) :\n",
    "        return 0.0\n",
    "\n",
    "    return (0.5*cos((3.14*Rij)/8.1) + 0.5)"
   ]
  },
  {
   "cell_type": "markdown",
   "metadata": {},
   "source": [
    "Cutoff for angular symmetry"
   ]
  },
  {
   "cell_type": "code",
   "execution_count": null,
   "metadata": {},
   "outputs": [],
   "source": [
    "def cutoffangular(Rij) :\n",
    "    if (Rij > 8.1) :\n",
    "        return 0.0\n",
    "\n",
    "    return (0.5*cos((3.14*Rij)/8.1) + 0.5)\n"
   ]
  },
  {
   "cell_type": "markdown",
   "metadata": {},
   "source": [
    "Radial Symmetry Function"
   ]
  },
  {
   "cell_type": "code",
   "execution_count": null,
   "metadata": {},
   "outputs": [],
   "source": [
    "def radial(Ri,Rj,Rs,eta) :\n",
    "    Rij = math.sqrt((Ri[0]-Rj[0])*(Ri[0]-Rj[0]) + (Ri[1]-Rj[1])*(Ri[1]-Rj[1]) + (Ri[2]-Rj[2])*(Ri[2]-Rj[2]))\n",
    "    cc = cutoffradial(Rij)\n",
    "    exx = exp((((-1)*(Rij-3.9)*(Rij-3.9))))\n",
    "    radf = exp((((-1)*(Rij-3.9)*(Rij-3.9))))*cc\n",
    "\n",
    "    return (radf)"
   ]
  },
  {
   "cell_type": "markdown",
   "metadata": {},
   "source": [
    "Dot product"
   ]
  },
  {
   "cell_type": "code",
   "execution_count": 4,
   "metadata": {},
   "outputs": [],
   "source": [
    "def dot(Vi, Vj) :\n",
    "    return\tabs(Vi[0]*Vj[0] + Vi[1]*Vj[1] + Vi[2]*Vj[2])"
   ]
  },
  {
   "cell_type": "markdown",
   "metadata": {},
   "source": [
    "Norm"
   ]
  },
  {
   "cell_type": "code",
   "execution_count": 5,
   "metadata": {},
   "outputs": [],
   "source": [
    "def norm(Vi) :\n",
    "    return sqrt(dot(Vi, Vi))"
   ]
  },
  {
   "cell_type": "markdown",
   "metadata": {},
   "source": [
    "Angular Symmetry Function"
   ]
  },
  {
   "cell_type": "code",
   "execution_count": 6,
   "metadata": {},
   "outputs": [],
   "source": [
    "def angular(Ri,Rj,Rk,Rs,eta,theta,zeta) :\n",
    "\n",
    "    Ri = np.array(Ri)\n",
    "    Rj = np.array(Rj)\n",
    "    Rk = np.array(Rk)\n",
    "    Vj = Rj - Ri\n",
    "    Vk = Rk - Ri\n",
    "\n",
    "    cosan = dot(Vj, Vk) / (norm(Vj) * norm(Vk))\n",
    "    cosan = round(cosan,5)\n",
    "    try :\n",
    "        acos(cosan)\n",
    "\n",
    "    except :\n",
    "        print(cosan)\n",
    "        sys.exit()\n",
    "\n",
    "    angle = acos(cosan)\n",
    "\n",
    "    result = pow(2, 1-3)*pow( 1+cos(angle-theta),zeta )\n",
    "    result = result * exp(-1*eta*pow( (norm(Vj)+norm(Vk))/2 - Rs , 2) )\n",
    "    result = result * cutoffangular(norm(Vj)) * cutoffangular(norm(Vk))\n",
    "    result = round(result,5)\n",
    "    return result"
   ]
  },
  {
   "cell_type": "markdown",
   "metadata": {},
   "source": [
    "# Dataloader  - dataset QM7"
   ]
  },
  {
   "cell_type": "code",
   "execution_count": 7,
   "metadata": {},
   "outputs": [],
   "source": [
    "#############$$$$$$$$$$$$$$$$$$$$$$ Below use the address of your qm7.mat downloaded file $$$$$########\n",
    "qm7 = scipy.io.loadmat('/home/mehthab/Downloads/qm7.mat')\n",
    "\n",
    "#print(str(qm7))\n",
    "\n",
    "X = np.array(qm7['X'])\n",
    "R = np.array(qm7['R'])\n",
    "T = np.array(qm7['T'])\n",
    "P = np.array(qm7['P'])\n",
    "Z = np.array(qm7['Z'])\n",
    "\n",
    "#X is Coulomb Matriz\n",
    "#T is Atomization Energies - labels\n",
    "#P is splits for cross-validation\n",
    "#Z is atomic charge of each atom in the molecule\n",
    "#R is cartesian coordinates of each atom in the molecule\n",
    "\n",
    "xS = np.shape(X)\n",
    "rS = np.shape(R)\n",
    "tS = np.shape(T)\n",
    "zS = np.shape(Z)\n",
    "pS = np.shape(P)\n"
   ]
  },
  {
   "cell_type": "markdown",
   "metadata": {},
   "source": [
    "Parameters for symmetry functions"
   ]
  },
  {
   "cell_type": "code",
   "execution_count": 8,
   "metadata": {},
   "outputs": [],
   "source": [
    "Rs = [0.50,1.17,1.83,2.50,3.17,3.83,4.50,5.17]\n",
    "eta = 4.00\n",
    "zeta = 8.00\n",
    "the = [0.00,1.57,3.14,4.71]\n",
    "Ar = np.zeros([23,520,7165])\n",
    "\n",
    "rc = np.zeros([7165,23])"
   ]
  },
  {
   "cell_type": "markdown",
   "metadata": {},
   "source": [
    "Start indices for sub-AEvs of AEvs"
   ]
  },
  {
   "cell_type": "code",
   "execution_count": 9,
   "metadata": {},
   "outputs": [],
   "source": [
    "a1 = [0,8,16,24,32]\n",
    "a2 = np.zeros([5,5])\n",
    "\n",
    "a2[0][0] = 40\n",
    "a2[0][1] = 72\n",
    "a2[0][2] = 104\n",
    "a2[0][3] = 136\n",
    "a2[0][4] = 168\n",
    "a2[1][1] = 200\n",
    "a2[1][2] = 232\n",
    "a2[1][3] = 264\n",
    "a2[1][4] = 296\n",
    "a2[2][2] = 328\n",
    "a2[2][3] = 360\n",
    "a2[2][4] = 392\n",
    "a2[3][3] = 424\n",
    "a2[3][4] = 456\n",
    "a2[4][4] = 488\n",
    "\n",
    "a2[0][0] = 40\n",
    "a2[1][0] = 72\n",
    "a2[2][0] = 104\n",
    "a2[3][0] = 136\n",
    "a2[4][0] = 168\n",
    "a2[1][1] = 200\n",
    "a2[2][1] = 232\n",
    "a2[3][1] = 264\n",
    "a2[4][1] = 296\n",
    "a2[2][2] = 328\n",
    "a2[3][2] = 360\n",
    "a2[4][2] = 392\n",
    "a2[3][3] = 424\n",
    "a2[4][3] = 456\n",
    "a2[4][4] = 488\n"
   ]
  },
  {
   "cell_type": "markdown",
   "metadata": {},
   "source": [
    "# Calculating AEVs"
   ]
  },
  {
   "cell_type": "code",
   "execution_count": null,
   "metadata": {},
   "outputs": [],
   "source": [
    "for i in range(7165) :\n",
    "    for j in range(23) :\n",
    "        u = int(Z[i][j])\n",
    "        v = switch_demo(u)\n",
    "        rc[i][j] = v\n",
    "        rc[i][j] = int(rc[i][j])\n",
    "\n",
    "for k in range(7165) :\n",
    "    for i in range(23) :\n",
    "        if(int(rc[k][i])==0) :\n",
    "            continue\n",
    "\n",
    "        for j in range(23) :\n",
    "            if (i==j) :\n",
    "                continue\n",
    "            if (int(rc[k][j]) == 0) :\n",
    "                continue\n",
    "\n",
    "            start = a1[int(rc[k][j])-1]\n",
    "\n",
    "            for y in range(8) :\n",
    "                uu = radial(R[k][i],R[k][j],Rs[y],eta)\n",
    "                Ar[i][start + y][k] = Ar[i][start + y][k] + uu\n",
    "\n",
    "            for y2 in  range((j+1),23):\n",
    "                if (y2==i) :\n",
    "                    continue\n",
    "                if (y2==j) :\n",
    "                    continue\n",
    "                if (int(rc[k][y2]) == 0) :\n",
    "                    continue\n",
    "\n",
    "                start = a2[int(rc[k][j]-1)][int(rc[k][y2]-1)]\n",
    "\n",
    "                for y3 in range(8) :\n",
    "                    for y4 in range(4) :\n",
    "                        uvv = angular(R[k][i],R[k][j],R[k][y2],Rs[y3],eta,the[y4],zeta)\n",
    "\n",
    "                        Ar[i][int(start + int((y3+1)*(y4+1) - 1))][k] = Ar[i][int(start + int((y3+1)*(y4+1) - 1))][k] + uvv"
   ]
  },
  {
   "cell_type": "markdown",
   "metadata": {},
   "source": [
    "Normalizing obtained AEVs(feature vectors) and storing to .mat file"
   ]
  },
  {
   "cell_type": "code",
   "execution_count": null,
   "metadata": {},
   "outputs": [],
   "source": [
    "print(np.shape(Ar))\n",
    "\n",
    "Ar = np.transpose(Ar)\n",
    "\n",
    "print(np.shape(Ar))\n",
    "Ar =Ar*1000\n",
    "\n",
    "for k in range(7165) :\n",
    "    aa = Ar[k]\n",
    "    aa = np.transpose(aa)\n",
    "    aa[0:23] = normalize(aa[0:23])\n",
    "    aa = np.transpose(aa)\n",
    "    Ar[k] = aa\n",
    "\n",
    "Ar = Ar*1000\n",
    "Ar = np.round(Ar,decimals = 3)\n",
    "\n",
    "aa = Ar[70]\n",
    "aa = np.transpose(aa)\n",
    "\n",
    "Ar = np.transpose(Ar)\n",
    "print(np.shape(Ar))\n",
    "print(np.shape(rc))\n",
    "print(np.shape(T))\n",
    "scipy.io.savemat('feature_vector5.mat', {'AEVs' : Ar , 'Atomic_Num' : rc , 'labels' : T},do_compression = True)"
   ]
  },
  {
   "cell_type": "markdown",
   "metadata": {},
   "source": [
    "# Feature Vectors Preprocessing (Normalization)"
   ]
  },
  {
   "cell_type": "code",
   "execution_count": 18,
   "metadata": {},
   "outputs": [],
   "source": [
    "class NDStandardScaler(TransformerMixin):\n",
    "    def __init__(self, **kwargs):\n",
    "        self._scaler = StandardScaler(copy=True, **kwargs)\n",
    "        self._orig_shape = None\n",
    "\n",
    "    def fit(self, X, **kwargs):\n",
    "        X = np.array(X)\n",
    "        # Save the original shape to reshape the flattened X later\n",
    "        # back to its original shape\n",
    "        if len(X.shape) > 1:\n",
    "            self._orig_shape = X.shape[1:]\n",
    "        X = self._flatten(X)\n",
    "        self._scaler.fit(X, **kwargs)\n",
    "        return self\n",
    "\n",
    "    def transform(self, X, **kwargs):\n",
    "        X = np.array(X)\n",
    "        X = self._flatten(X)\n",
    "        X = self._scaler.transform(X, **kwargs)\n",
    "        X = self._reshape(X)\n",
    "        return X\n",
    "\n",
    "    def _flatten(self, X):\n",
    "        # Reshape X to <= 2 dimensions\n",
    "        if len(X.shape) > 2:\n",
    "            n_dims = np.prod(self._orig_shape)\n",
    "            X = X.reshape(-1, n_dims)\n",
    "        return X\n",
    "\n",
    "    def _reshape(self, X):\n",
    "        # Reshape X back to it's original shape\n",
    "        if len(X.shape) >= 2:\n",
    "            X = X.reshape(-1, *self._orig_shape)\n",
    "        return X"
   ]
  },
  {
   "cell_type": "markdown",
   "metadata": {},
   "source": [
    "Feature Vectors Loading "
   ]
  },
  {
   "cell_type": "code",
   "execution_count": 19,
   "metadata": {},
   "outputs": [
    {
     "name": "stdout",
     "output_type": "stream",
     "text": [
      "Shapes:\n",
      "(7165, 23, 520)\n",
      "(7165, 23)\n",
      "(7165,)\n",
      "[0.00000e+00 9.55000e-01 6.23990e+01 1.21611e+02 2.07960e+01 1.80670e+01\n",
      " 7.98560e+01 0.00000e+00 1.57062e+02 0.00000e+00 3.21346e+02 0.00000e+00\n",
      " 2.44688e+02 5.30000e-02 5.83330e+01 0.00000e+00 4.01000e-01 0.00000e+00\n",
      " 0.00000e+00 2.31000e-01 0.00000e+00 0.00000e+00 1.20000e-02 0.00000e+00\n",
      " 0.00000e+00 0.00000e+00 0.00000e+00 0.00000e+00 0.00000e+00 0.00000e+00\n",
      " 0.00000e+00 0.00000e+00 0.00000e+00 0.00000e+00 8.50000e-02 1.75900e+00\n",
      " 1.35310e+01 7.00950e+01 1.24182e+02]\n",
      "[0 1 2 3 4 5]\n"
     ]
    }
   ],
   "source": [
    "#######$$$$$$$$$$$$$$ Below use the address of your feature vector (.mat) file $$$$$$$$###########\n",
    "# Get input feature dataset\n",
    "features = scipy.io.loadmat('/home/mehthab/feature_vector5.mat')\n",
    "\n",
    "rans = np.arange(7165)\n",
    "\n",
    "# Turn feature dataset into seperate arrays\n",
    "AEVs = np.transpose(np.array(features['AEVs']), (2, 0, 1))\n",
    "Atomic_Num = np.array(features['Atomic_Num'], dtype=np.long)\n",
    "Target = np.array(features['labels'][0])\n",
    "\n",
    "AEVs = np.round(AEVs,4)\n",
    "print(\"Shapes:\")\n",
    "print(np.shape(AEVs))\n",
    "print(np.shape(Atomic_Num))\n",
    "print(np.shape(Target))\n",
    "print(AEVs[50][2][41:80])\n",
    "list_atoms = []\n",
    "for row in Atomic_Num:\n",
    "    for elem in row:\n",
    "        list_atoms.append(elem)\n",
    "print(np.unique(np.array(list_atoms)))"
   ]
  },
  {
   "cell_type": "markdown",
   "metadata": {},
   "source": [
    "Feature Vector Normalization"
   ]
  },
  {
   "cell_type": "code",
   "execution_count": 20,
   "metadata": {},
   "outputs": [
    {
     "name": "stdout",
     "output_type": "stream",
     "text": [
      "(7165, 23, 520)\n"
     ]
    }
   ],
   "source": [
    "Ar= AEVs\n",
    "scaler = NDStandardScaler()\n",
    "data = scaler.fit_transform(Ar)\n",
    "AEVs = data\n",
    "print(np.shape(data))"
   ]
  },
  {
   "cell_type": "code",
   "execution_count": 21,
   "metadata": {},
   "outputs": [
    {
     "name": "stdout",
     "output_type": "stream",
     "text": [
      "[ 0.         -0.3606426   0.         -0.13491457 -0.32410168  0.\n",
      "  0.         -0.27383865  0.          0.          0.         -0.18444263\n",
      "  0.          0.          0.         -0.28079271  0.         -0.01670097\n",
      " -0.02434471 -0.02938443 -0.11238703 -0.14150766 -0.15390373 -0.10388758\n",
      " -0.06607923 -0.12222848  0.         -0.15160531  0.         -0.14719748\n",
      " -0.07397864 -0.11991937  0.         -0.115648    0.         -0.01700178\n",
      " -0.06798901  0.          0.         -0.0644283 ]\n"
     ]
    }
   ],
   "source": [
    "print(data[50][3][280:320])"
   ]
  },
  {
   "cell_type": "markdown",
   "metadata": {},
   "source": [
    "# Neural Net Model"
   ]
  },
  {
   "cell_type": "code",
   "execution_count": 22,
   "metadata": {},
   "outputs": [],
   "source": [
    "class Net(nn.Module):\n",
    "    def __init__(self):\n",
    "        super(Net, self).__init__()\n",
    "        self.fc1 = nn.Linear(520, 128)\n",
    "        self.fc2 = nn.Linear(128, 128)\n",
    "        self.fc3 = nn.Linear(128, 128)\n",
    "        self.fc4 = nn.Linear(128,64)\n",
    "        self.fc5 = nn.Linear(64, 1)\n",
    "    def forward(self, x):\n",
    "        x = torch.tanh(self.fc1(x))\n",
    "        x = torch.tanh(self.fc2(x))\n",
    "        x = torch.tanh(self.fc3(x))\n",
    "        x = torch.tanh(self.fc4(x))\n",
    "        x = (self.fc5(x))\n",
    "        return x #need activation function on x or loss function"
   ]
  },
  {
   "cell_type": "markdown",
   "metadata": {},
   "source": [
    "# Neural Net Initialization - Training - Testing"
   ]
  },
  {
   "cell_type": "markdown",
   "metadata": {},
   "source": [
    "Initializing 5 instances of class Net - one each for H,C,N,O and S\n",
    "Training on 5000 molecules\n",
    "Testing on 2001 molecules"
   ]
  },
  {
   "cell_type": "code",
   "execution_count": 23,
   "metadata": {},
   "outputs": [
    {
     "name": "stdout",
     "output_type": "stream",
     "text": [
      "epoch:  0\n",
      "epoch:  1\n",
      "epoch:  2\n",
      "epoch:  3\n",
      "epoch:  4\n",
      "epoch:  5\n",
      "epoch:  6\n",
      "epoch:  7\n",
      "epoch:  8\n",
      "epoch:  9\n",
      "epoch:  10\n",
      "epoch:  11\n",
      "epoch:  12\n",
      "epoch:  13\n",
      "epoch:  14\n",
      "epoch:  15\n",
      "epoch:  16\n",
      "epoch:  17\n",
      "epoch:  18\n",
      "epoch:  19\n",
      "1233\n"
     ]
    }
   ],
   "source": [
    "def doNN():\n",
    "    # Declare Nets\n",
    "    NNP_H = Net()\n",
    "    NNP_C = Net()\n",
    "    NNP_N = Net()\n",
    "    NNP_O = Net()\n",
    "    NNP_S = Net()\n",
    "    \n",
    "    # put in a list for ease of access\n",
    "    nets = [NNP_H, NNP_C, NNP_N, NNP_O, NNP_S]\n",
    "    \n",
    "    Los = []\n",
    "\n",
    "    # corresponding optimizers\n",
    "    optimizers = []\n",
    "    #criterions = []\n",
    "    for net in nets:\n",
    "        optimizers.append( optim.Adam(net.parameters(), lr=0.0099,betas=(0.5,0.59) ,eps=1e-08))\n",
    "    \n",
    "    criterion = nn.L1Loss()\n",
    "    \n",
    "    ##########################################################################################\n",
    "    # training\n",
    "    epochs = 20\n",
    "    molecules = 5000\n",
    "    batch_size = 20\n",
    "    rep = int(molecules/batch_size)\n",
    "    \n",
    "    for epoch in range(epochs) :\n",
    "        print(\"epoch: \", epoch)\n",
    "        \n",
    "        for mols in range(rep) :\n",
    "            \n",
    "            outp = torch.zeros(1,batch_size)\n",
    "            toget = torch.zeros(1,batch_size)\n",
    "            ck = int(0)\n",
    "            \n",
    "            start = mols*batch_size\n",
    "            \n",
    "            for mole in range(start,start+batch_size):\n",
    "                \n",
    "                molecule = int(rans[int(mole)])\n",
    "                molecule = mole\n",
    "\n",
    "                out_f = torch.zeros(1,1)\n",
    "\n",
    "                # use all relevant aev's on the relevant nets\n",
    "                for atom in range(23):\n",
    "                    if(Atomic_Num[molecule][atom]==0):\n",
    "                        continue\n",
    "\n",
    "                    aev = torch.from_numpy(AEVs[molecule][atom])\n",
    "                    out = nets[Atomic_Num[molecule][atom]-1](aev.float())\n",
    "                    out_f = out_f + out\n",
    "\n",
    "                outp[0][ck] = out_f\n",
    "                \n",
    "                targett = Target[molecule]\n",
    "                targett = torch.from_numpy(np.array(targett))\n",
    "                targett = targett.float()\n",
    "                toget[0][ck] = targett\n",
    "                ck = int(ck+1)\n",
    "                \n",
    "                used_atoms = []\n",
    "                for atom in range(23):\n",
    "                    if(Atomic_Num[molecule][atom]!=0):\n",
    "                        used_atoms.append(Atomic_Num[molecule][atom])\n",
    "                used_atoms = np.unique(np.array(used_atoms))\n",
    "            \n",
    "            # if no nets were used, just move on to the next molecule\n",
    "                if(len(used_atoms)==0) :\n",
    "                    print(\"scream\")\n",
    "                    break\n",
    "                \n",
    "            # setting the parameters for the entire net to be zero\n",
    "            for net in nets:\n",
    "                net.zero_grad()\n",
    "            \n",
    "            for optimizer in optimizers:\n",
    "                    optimizer.zero_grad()\n",
    "\n",
    "            toget = toget.view(1,-1)\n",
    "            # use loss function\n",
    "            loss = criterion(outp,toget)\n",
    "\n",
    "            # backpropagate\n",
    "            loss.backward()\n",
    "            \n",
    "            # step the optimizers            \n",
    "            for atom in range(5) :\n",
    "                optimizers[atom].step()\n",
    "    \n",
    "    \n",
    "    ###################################################################################\n",
    "    # Testing\n",
    "    losses = []\n",
    "    answ = 0\n",
    "    for mole in range(5501,7100) :\n",
    "        molecule = int(rans[int(mole)])\n",
    "        molecule = mole\n",
    "\n",
    "        molecule_out = torch.zeros(1,1)\n",
    "        for atom in range(23):\n",
    "            if(Atomic_Num[molecule][atom]==0):\n",
    "                continue\n",
    "            aev = torch.from_numpy((AEVs[molecule][atom]))\n",
    "            net_out = nets[Atomic_Num[molecule][atom]-1](aev.float())\n",
    "            molecule_out = molecule_out + net_out\n",
    "        \n",
    "        targett = Target[molecule]\n",
    "        targett = torch.from_numpy(np.array(targett))\n",
    "        targett = targett.float()\n",
    "        targett = targett.view(1, -1)\n",
    "        loss = criterion(molecule_out, targett)\n",
    "        if ((targett-15) <= molecule_out <= (targett+15)) :\n",
    "            answ = answ + 1\n",
    "    \n",
    "    print(answ)\n",
    "doNN()"
   ]
  },
  {
   "cell_type": "markdown",
   "metadata": {},
   "source": [
    "# Choice of Loss function , optimization and Results"
   ]
  },
  {
   "cell_type": "markdown",
   "metadata": {},
   "source": [
    "Loss Funtions that worked (for us) : L1Loss(), SmoothL1Loss(), HingeEmbeddingLoss() and similar loss functions\n",
    "    MSELoss() blows up loss to nan\n",
    "    loss with log functions give errors"
   ]
  },
  {
   "cell_type": "markdown",
   "metadata": {},
   "source": [
    "Optimization - Adam (as suggested in the ANI1 -paper);SGD - gives poor results\n",
    "lr(learning rate) = 0.0099\n",
    "beta1 = 0.5 to 0.9 (0.5 gave slightly better results)\n",
    "beta2 = 0.59 to 0.99 (0.59 gave slightly better results)\n"
   ]
  },
  {
   "cell_type": "markdown",
   "metadata": {},
   "source": [
    "# results"
   ]
  },
  {
   "cell_type": "markdown",
   "metadata": {},
   "source": [
    "Best result :\n",
    "    out of 2100 test molecules, predicted atomization energies : -\n",
    "    \n",
    "    2094 are within absolute difference 90 range\n",
    "    1954 are within absolute difference 40 range\n",
    "    1233 are within absolute difference 15 range\n",
    "\n",
    "parameter for best result : for optimizer lr = 0.0099 , betas=(0.5,0.59), eps = 1e-8.    \n",
    "    \n",
    "    "
   ]
  }
 ],
 "metadata": {
  "kernelspec": {
   "display_name": "Python 3",
   "language": "python",
   "name": "python3"
  },
  "language_info": {
   "codemirror_mode": {
    "name": "ipython",
    "version": 3
   },
   "file_extension": ".py",
   "mimetype": "text/x-python",
   "name": "python",
   "nbconvert_exporter": "python",
   "pygments_lexer": "ipython3",
   "version": "3.7.3"
  }
 },
 "nbformat": 4,
 "nbformat_minor": 4
}
